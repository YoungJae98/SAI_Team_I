{
  "nbformat": 4,
  "nbformat_minor": 0,
  "metadata": {
    "colab": {
      "name": "5주차 5번.ipynb",
      "provenance": []
    },
    "kernelspec": {
      "name": "python3",
      "display_name": "Python 3"
    },
    "language_info": {
      "name": "python"
    }
  },
  "cells": [
    {
      "cell_type": "code",
      "metadata": {
        "colab": {
          "resources": {
            "http://localhost:8080/nbextensions/google.colab/files.js": {
              "data": "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",
              "ok": true,
              "headers": [
                [
                  "content-type",
                  "application/javascript"
                ]
              ],
              "status": 200,
              "status_text": ""
            }
          },
          "base_uri": "https://localhost:8080/",
          "height": 116
        },
        "id": "v-KJHfgcRgva",
        "outputId": "3679ef32-4439-45d1-c767-45d2171170f4"
      },
      "source": [
        "from google.colab import files\n",
        "files.upload()"
      ],
      "execution_count": 81,
      "outputs": [
        {
          "output_type": "display_data",
          "data": {
            "text/html": [
              "\n",
              "     <input type=\"file\" id=\"files-4da67d10-3beb-4af6-b205-caabc5c0b3e8\" name=\"files[]\" multiple disabled\n",
              "        style=\"border:none\" />\n",
              "     <output id=\"result-4da67d10-3beb-4af6-b205-caabc5c0b3e8\">\n",
              "      Upload widget is only available when the cell has been executed in the\n",
              "      current browser session. Please rerun this cell to enable.\n",
              "      </output>\n",
              "      <script src=\"/nbextensions/google.colab/files.js\"></script> "
            ],
            "text/plain": [
              "<IPython.core.display.HTML object>"
            ]
          },
          "metadata": {
            "tags": []
          }
        },
        {
          "output_type": "stream",
          "text": [
            "Saving test.csv to test.csv\n"
          ],
          "name": "stdout"
        },
        {
          "output_type": "execute_result",
          "data": {
            "text/plain": [
              "{'test.csv': b'PassengerId,Pclass,Name,Sex,Age,SibSp,Parch,Ticket,Fare,Cabin,Embarked\\r\\n892,3,\"Kelly, Mr. James\",male,34.5,0,0,330911,7.8292,,Q\\r\\n893,3,\"Wilkes, Mrs. James (Ellen Needs)\",female,47,1,0,363272,7,,S\\r\\n894,2,\"Myles, Mr. Thomas Francis\",male,62,0,0,240276,9.6875,,Q\\r\\n895,3,\"Wirz, Mr. Albert\",male,27,0,0,315154,8.6625,,S\\r\\n896,3,\"Hirvonen, Mrs. Alexander (Helga E Lindqvist)\",female,22,1,1,3101298,12.2875,,S\\r\\n897,3,\"Svensson, Mr. Johan Cervin\",male,14,0,0,7538,9.225,,S\\r\\n898,3,\"Connolly, Miss. Kate\",female,30,0,0,330972,7.6292,,Q\\r\\n899,2,\"Caldwell, Mr. Albert Francis\",male,26,1,1,248738,29,,S\\r\\n900,3,\"Abrahim, Mrs. Joseph (Sophie Halaut Easu)\",female,18,0,0,2657,7.2292,,C\\r\\n901,3,\"Davies, Mr. John Samuel\",male,21,2,0,A/4 48871,24.15,,S\\r\\n902,3,\"Ilieff, Mr. Ylio\",male,,0,0,349220,7.8958,,S\\r\\n903,1,\"Jones, Mr. Charles Cresson\",male,46,0,0,694,26,,S\\r\\n904,1,\"Snyder, Mrs. John Pillsbury (Nelle Stevenson)\",female,23,1,0,21228,82.2667,B45,S\\r\\n905,2,\"Howard, Mr. Benjamin\",male,63,1,0,24065,26,,S\\r\\n906,1,\"Chaffee, Mrs. Herbert Fuller (Carrie Constance Toogood)\",female,47,1,0,W.E.P. 5734,61.175,E31,S\\r\\n907,2,\"del Carlo, Mrs. Sebastiano (Argenia Genovesi)\",female,24,1,0,SC/PARIS 2167,27.7208,,C\\r\\n908,2,\"Keane, Mr. Daniel\",male,35,0,0,233734,12.35,,Q\\r\\n909,3,\"Assaf, Mr. Gerios\",male,21,0,0,2692,7.225,,C\\r\\n910,3,\"Ilmakangas, Miss. Ida Livija\",female,27,1,0,STON/O2. 3101270,7.925,,S\\r\\n911,3,\"Assaf Khalil, Mrs. Mariana (Miriam\"\")\"\"\",female,45,0,0,2696,7.225,,C\\r\\n912,1,\"Rothschild, Mr. Martin\",male,55,1,0,PC 17603,59.4,,C\\r\\n913,3,\"Olsen, Master. Artur Karl\",male,9,0,1,C 17368,3.1708,,S\\r\\n914,1,\"Flegenheim, Mrs. Alfred (Antoinette)\",female,,0,0,PC 17598,31.6833,,S\\r\\n915,1,\"Williams, Mr. Richard Norris II\",male,21,0,1,PC 17597,61.3792,,C\\r\\n916,1,\"Ryerson, Mrs. Arthur Larned (Emily Maria Borie)\",female,48,1,3,PC 17608,262.375,B57 B59 B63 B66,C\\r\\n917,3,\"Robins, Mr. Alexander A\",male,50,1,0,A/5. 3337,14.5,,S\\r\\n918,1,\"Ostby, Miss. Helene Ragnhild\",female,22,0,1,113509,61.9792,B36,C\\r\\n919,3,\"Daher, Mr. Shedid\",male,22.5,0,0,2698,7.225,,C\\r\\n920,1,\"Brady, Mr. John Bertram\",male,41,0,0,113054,30.5,A21,S\\r\\n921,3,\"Samaan, Mr. Elias\",male,,2,0,2662,21.6792,,C\\r\\n922,2,\"Louch, Mr. Charles Alexander\",male,50,1,0,SC/AH 3085,26,,S\\r\\n923,2,\"Jefferys, Mr. Clifford Thomas\",male,24,2,0,C.A. 31029,31.5,,S\\r\\n924,3,\"Dean, Mrs. Bertram (Eva Georgetta Light)\",female,33,1,2,C.A. 2315,20.575,,S\\r\\n925,3,\"Johnston, Mrs. Andrew G (Elizabeth Lily\"\" Watson)\"\"\",female,,1,2,W./C. 6607,23.45,,S\\r\\n926,1,\"Mock, Mr. Philipp Edmund\",male,30,1,0,13236,57.75,C78,C\\r\\n927,3,\"Katavelas, Mr. Vassilios (Catavelas Vassilios\"\")\"\"\",male,18.5,0,0,2682,7.2292,,C\\r\\n928,3,\"Roth, Miss. Sarah A\",female,,0,0,342712,8.05,,S\\r\\n929,3,\"Cacic, Miss. Manda\",female,21,0,0,315087,8.6625,,S\\r\\n930,3,\"Sap, Mr. Julius\",male,25,0,0,345768,9.5,,S\\r\\n931,3,\"Hee, Mr. Ling\",male,,0,0,1601,56.4958,,S\\r\\n932,3,\"Karun, Mr. Franz\",male,39,0,1,349256,13.4167,,C\\r\\n933,1,\"Franklin, Mr. Thomas Parham\",male,,0,0,113778,26.55,D34,S\\r\\n934,3,\"Goldsmith, Mr. Nathan\",male,41,0,0,SOTON/O.Q. 3101263,7.85,,S\\r\\n935,2,\"Corbett, Mrs. Walter H (Irene Colvin)\",female,30,0,0,237249,13,,S\\r\\n936,1,\"Kimball, Mrs. Edwin Nelson Jr (Gertrude Parsons)\",female,45,1,0,11753,52.5542,D19,S\\r\\n937,3,\"Peltomaki, Mr. Nikolai Johannes\",male,25,0,0,STON/O 2. 3101291,7.925,,S\\r\\n938,1,\"Chevre, Mr. Paul Romaine\",male,45,0,0,PC 17594,29.7,A9,C\\r\\n939,3,\"Shaughnessy, Mr. Patrick\",male,,0,0,370374,7.75,,Q\\r\\n940,1,\"Bucknell, Mrs. William Robert (Emma Eliza Ward)\",female,60,0,0,11813,76.2917,D15,C\\r\\n941,3,\"Coutts, Mrs. William (Winnie Minnie\"\" Treanor)\"\"\",female,36,0,2,C.A. 37671,15.9,,S\\r\\n942,1,\"Smith, Mr. Lucien Philip\",male,24,1,0,13695,60,C31,S\\r\\n943,2,\"Pulbaum, Mr. Franz\",male,27,0,0,SC/PARIS 2168,15.0333,,C\\r\\n944,2,\"Hocking, Miss. Ellen Nellie\"\"\"\"\",female,20,2,1,29105,23,,S\\r\\n945,1,\"Fortune, Miss. Ethel Flora\",female,28,3,2,19950,263,C23 C25 C27,S\\r\\n946,2,\"Mangiavacchi, Mr. Serafino Emilio\",male,,0,0,SC/A.3 2861,15.5792,,C\\r\\n947,3,\"Rice, Master. Albert\",male,10,4,1,382652,29.125,,Q\\r\\n948,3,\"Cor, Mr. Bartol\",male,35,0,0,349230,7.8958,,S\\r\\n949,3,\"Abelseth, Mr. Olaus Jorgensen\",male,25,0,0,348122,7.65,F G63,S\\r\\n950,3,\"Davison, Mr. Thomas Henry\",male,,1,0,386525,16.1,,S\\r\\n951,1,\"Chaudanson, Miss. Victorine\",female,36,0,0,PC 17608,262.375,B61,C\\r\\n952,3,\"Dika, Mr. Mirko\",male,17,0,0,349232,7.8958,,S\\r\\n953,2,\"McCrae, Mr. Arthur Gordon\",male,32,0,0,237216,13.5,,S\\r\\n954,3,\"Bjorklund, Mr. Ernst Herbert\",male,18,0,0,347090,7.75,,S\\r\\n955,3,\"Bradley, Miss. Bridget Delia\",female,22,0,0,334914,7.725,,Q\\r\\n956,1,\"Ryerson, Master. John Borie\",male,13,2,2,PC 17608,262.375,B57 B59 B63 B66,C\\r\\n957,2,\"Corey, Mrs. Percy C (Mary Phyllis Elizabeth Miller)\",female,,0,0,F.C.C. 13534,21,,S\\r\\n958,3,\"Burns, Miss. Mary Delia\",female,18,0,0,330963,7.8792,,Q\\r\\n959,1,\"Moore, Mr. Clarence Bloomfield\",male,47,0,0,113796,42.4,,S\\r\\n960,1,\"Tucker, Mr. Gilbert Milligan Jr\",male,31,0,0,2543,28.5375,C53,C\\r\\n961,1,\"Fortune, Mrs. Mark (Mary McDougald)\",female,60,1,4,19950,263,C23 C25 C27,S\\r\\n962,3,\"Mulvihill, Miss. Bertha E\",female,24,0,0,382653,7.75,,Q\\r\\n963,3,\"Minkoff, Mr. Lazar\",male,21,0,0,349211,7.8958,,S\\r\\n964,3,\"Nieminen, Miss. Manta Josefina\",female,29,0,0,3101297,7.925,,S\\r\\n965,1,\"Ovies y Rodriguez, Mr. Servando\",male,28.5,0,0,PC 17562,27.7208,D43,C\\r\\n966,1,\"Geiger, Miss. Amalie\",female,35,0,0,113503,211.5,C130,C\\r\\n967,1,\"Keeping, Mr. Edwin\",male,32.5,0,0,113503,211.5,C132,C\\r\\n968,3,\"Miles, Mr. Frank\",male,,0,0,359306,8.05,,S\\r\\n969,1,\"Cornell, Mrs. Robert Clifford (Malvina Helen Lamson)\",female,55,2,0,11770,25.7,C101,S\\r\\n970,2,\"Aldworth, Mr. Charles Augustus\",male,30,0,0,248744,13,,S\\r\\n971,3,\"Doyle, Miss. Elizabeth\",female,24,0,0,368702,7.75,,Q\\r\\n972,3,\"Boulos, Master. Akar\",male,6,1,1,2678,15.2458,,C\\r\\n973,1,\"Straus, Mr. Isidor\",male,67,1,0,PC 17483,221.7792,C55 C57,S\\r\\n974,1,\"Case, Mr. Howard Brown\",male,49,0,0,19924,26,,S\\r\\n975,3,\"Demetri, Mr. Marinko\",male,,0,0,349238,7.8958,,S\\r\\n976,2,\"Lamb, Mr. John Joseph\",male,,0,0,240261,10.7083,,Q\\r\\n977,3,\"Khalil, Mr. Betros\",male,,1,0,2660,14.4542,,C\\r\\n978,3,\"Barry, Miss. Julia\",female,27,0,0,330844,7.8792,,Q\\r\\n979,3,\"Badman, Miss. Emily Louisa\",female,18,0,0,A/4 31416,8.05,,S\\r\\n980,3,\"O\\'Donoghue, Ms. Bridget\",female,,0,0,364856,7.75,,Q\\r\\n981,2,\"Wells, Master. Ralph Lester\",male,2,1,1,29103,23,,S\\r\\n982,3,\"Dyker, Mrs. Adolf Fredrik (Anna Elisabeth Judith Andersson)\",female,22,1,0,347072,13.9,,S\\r\\n983,3,\"Pedersen, Mr. Olaf\",male,,0,0,345498,7.775,,S\\r\\n984,1,\"Davidson, Mrs. Thornton (Orian Hays)\",female,27,1,2,F.C. 12750,52,B71,S\\r\\n985,3,\"Guest, Mr. Robert\",male,,0,0,376563,8.05,,S\\r\\n986,1,\"Birnbaum, Mr. Jakob\",male,25,0,0,13905,26,,C\\r\\n987,3,\"Tenglin, Mr. Gunnar Isidor\",male,25,0,0,350033,7.7958,,S\\r\\n988,1,\"Cavendish, Mrs. Tyrell William (Julia Florence Siegel)\",female,76,1,0,19877,78.85,C46,S\\r\\n989,3,\"Makinen, Mr. Kalle Edvard\",male,29,0,0,STON/O 2. 3101268,7.925,,S\\r\\n990,3,\"Braf, Miss. Elin Ester Maria\",female,20,0,0,347471,7.8542,,S\\r\\n991,3,\"Nancarrow, Mr. William Henry\",male,33,0,0,A./5. 3338,8.05,,S\\r\\n992,1,\"Stengel, Mrs. Charles Emil Henry (Annie May Morris)\",female,43,1,0,11778,55.4417,C116,C\\r\\n993,2,\"Weisz, Mr. Leopold\",male,27,1,0,228414,26,,S\\r\\n994,3,\"Foley, Mr. William\",male,,0,0,365235,7.75,,Q\\r\\n995,3,\"Johansson Palmquist, Mr. Oskar Leander\",male,26,0,0,347070,7.775,,S\\r\\n996,3,\"Thomas, Mrs. Alexander (Thamine Thelma\"\")\"\"\",female,16,1,1,2625,8.5167,,C\\r\\n997,3,\"Holthen, Mr. Johan Martin\",male,28,0,0,C 4001,22.525,,S\\r\\n998,3,\"Buckley, Mr. Daniel\",male,21,0,0,330920,7.8208,,Q\\r\\n999,3,\"Ryan, Mr. Edward\",male,,0,0,383162,7.75,,Q\\r\\n1000,3,\"Willer, Mr. Aaron (Abi Weller\"\")\"\"\",male,,0,0,3410,8.7125,,S\\r\\n1001,2,\"Swane, Mr. George\",male,18.5,0,0,248734,13,F,S\\r\\n1002,2,\"Stanton, Mr. Samuel Ward\",male,41,0,0,237734,15.0458,,C\\r\\n1003,3,\"Shine, Miss. Ellen Natalia\",female,,0,0,330968,7.7792,,Q\\r\\n1004,1,\"Evans, Miss. Edith Corse\",female,36,0,0,PC 17531,31.6792,A29,C\\r\\n1005,3,\"Buckley, Miss. Katherine\",female,18.5,0,0,329944,7.2833,,Q\\r\\n1006,1,\"Straus, Mrs. Isidor (Rosalie Ida Blun)\",female,63,1,0,PC 17483,221.7792,C55 C57,S\\r\\n1007,3,\"Chronopoulos, Mr. Demetrios\",male,18,1,0,2680,14.4542,,C\\r\\n1008,3,\"Thomas, Mr. John\",male,,0,0,2681,6.4375,,C\\r\\n1009,3,\"Sandstrom, Miss. Beatrice Irene\",female,1,1,1,PP 9549,16.7,G6,S\\r\\n1010,1,\"Beattie, Mr. Thomson\",male,36,0,0,13050,75.2417,C6,C\\r\\n1011,2,\"Chapman, Mrs. John Henry (Sara Elizabeth Lawry)\",female,29,1,0,SC/AH 29037,26,,S\\r\\n1012,2,\"Watt, Miss. Bertha J\",female,12,0,0,C.A. 33595,15.75,,S\\r\\n1013,3,\"Kiernan, Mr. John\",male,,1,0,367227,7.75,,Q\\r\\n1014,1,\"Schabert, Mrs. Paul (Emma Mock)\",female,35,1,0,13236,57.75,C28,C\\r\\n1015,3,\"Carver, Mr. Alfred John\",male,28,0,0,392095,7.25,,S\\r\\n1016,3,\"Kennedy, Mr. John\",male,,0,0,368783,7.75,,Q\\r\\n1017,3,\"Cribb, Miss. Laura Alice\",female,17,0,1,371362,16.1,,S\\r\\n1018,3,\"Brobeck, Mr. Karl Rudolf\",male,22,0,0,350045,7.7958,,S\\r\\n1019,3,\"McCoy, Miss. Alicia\",female,,2,0,367226,23.25,,Q\\r\\n1020,2,\"Bowenur, Mr. Solomon\",male,42,0,0,211535,13,,S\\r\\n1021,3,\"Petersen, Mr. Marius\",male,24,0,0,342441,8.05,,S\\r\\n1022,3,\"Spinner, Mr. Henry John\",male,32,0,0,STON/OQ. 369943,8.05,,S\\r\\n1023,1,\"Gracie, Col. Archibald IV\",male,53,0,0,113780,28.5,C51,C\\r\\n1024,3,\"Lefebre, Mrs. Frank (Frances)\",female,,0,4,4133,25.4667,,S\\r\\n1025,3,\"Thomas, Mr. Charles P\",male,,1,0,2621,6.4375,,C\\r\\n1026,3,\"Dintcheff, Mr. Valtcho\",male,43,0,0,349226,7.8958,,S\\r\\n1027,3,\"Carlsson, Mr. Carl Robert\",male,24,0,0,350409,7.8542,,S\\r\\n1028,3,\"Zakarian, Mr. Mapriededer\",male,26.5,0,0,2656,7.225,,C\\r\\n1029,2,\"Schmidt, Mr. August\",male,26,0,0,248659,13,,S\\r\\n1030,3,\"Drapkin, Miss. Jennie\",female,23,0,0,SOTON/OQ 392083,8.05,,S\\r\\n1031,3,\"Goodwin, Mr. Charles Frederick\",male,40,1,6,CA 2144,46.9,,S\\r\\n1032,3,\"Goodwin, Miss. Jessie Allis\",female,10,5,2,CA 2144,46.9,,S\\r\\n1033,1,\"Daniels, Miss. Sarah\",female,33,0,0,113781,151.55,,S\\r\\n1034,1,\"Ryerson, Mr. Arthur Larned\",male,61,1,3,PC 17608,262.375,B57 B59 B63 B66,C\\r\\n1035,2,\"Beauchamp, Mr. Henry James\",male,28,0,0,244358,26,,S\\r\\n1036,1,\"Lindeberg-Lind, Mr. Erik Gustaf (Mr Edward Lingrey\"\")\"\"\",male,42,0,0,17475,26.55,,S\\r\\n1037,3,\"Vander Planke, Mr. Julius\",male,31,3,0,345763,18,,S\\r\\n1038,1,\"Hilliard, Mr. Herbert Henry\",male,,0,0,17463,51.8625,E46,S\\r\\n1039,3,\"Davies, Mr. Evan\",male,22,0,0,SC/A4 23568,8.05,,S\\r\\n1040,1,\"Crafton, Mr. John Bertram\",male,,0,0,113791,26.55,,S\\r\\n1041,2,\"Lahtinen, Rev. William\",male,30,1,1,250651,26,,S\\r\\n1042,1,\"Earnshaw, Mrs. Boulton (Olive Potter)\",female,23,0,1,11767,83.1583,C54,C\\r\\n1043,3,\"Matinoff, Mr. Nicola\",male,,0,0,349255,7.8958,,C\\r\\n1044,3,\"Storey, Mr. Thomas\",male,60.5,0,0,3701,,,S\\r\\n1045,3,\"Klasen, Mrs. (Hulda Kristina Eugenia Lofqvist)\",female,36,0,2,350405,12.1833,,S\\r\\n1046,3,\"Asplund, Master. Filip Oscar\",male,13,4,2,347077,31.3875,,S\\r\\n1047,3,\"Duquemin, Mr. Joseph\",male,24,0,0,S.O./P.P. 752,7.55,,S\\r\\n1048,1,\"Bird, Miss. Ellen\",female,29,0,0,PC 17483,221.7792,C97,S\\r\\n1049,3,\"Lundin, Miss. Olga Elida\",female,23,0,0,347469,7.8542,,S\\r\\n1050,1,\"Borebank, Mr. John James\",male,42,0,0,110489,26.55,D22,S\\r\\n1051,3,\"Peacock, Mrs. Benjamin (Edith Nile)\",female,26,0,2,SOTON/O.Q. 3101315,13.775,,S\\r\\n1052,3,\"Smyth, Miss. Julia\",female,,0,0,335432,7.7333,,Q\\r\\n1053,3,\"Touma, Master. Georges Youssef\",male,7,1,1,2650,15.2458,,C\\r\\n1054,2,\"Wright, Miss. Marion\",female,26,0,0,220844,13.5,,S\\r\\n1055,3,\"Pearce, Mr. Ernest\",male,,0,0,343271,7,,S\\r\\n1056,2,\"Peruschitz, Rev. Joseph Maria\",male,41,0,0,237393,13,,S\\r\\n1057,3,\"Kink-Heilmann, Mrs. Anton (Luise Heilmann)\",female,26,1,1,315153,22.025,,S\\r\\n1058,1,\"Brandeis, Mr. Emil\",male,48,0,0,PC 17591,50.4958,B10,C\\r\\n1059,3,\"Ford, Mr. Edward Watson\",male,18,2,2,W./C. 6608,34.375,,S\\r\\n1060,1,\"Cassebeer, Mrs. Henry Arthur Jr (Eleanor Genevieve Fosdick)\",female,,0,0,17770,27.7208,,C\\r\\n1061,3,\"Hellstrom, Miss. Hilda Maria\",female,22,0,0,7548,8.9625,,S\\r\\n1062,3,\"Lithman, Mr. Simon\",male,,0,0,S.O./P.P. 251,7.55,,S\\r\\n1063,3,\"Zakarian, Mr. Ortin\",male,27,0,0,2670,7.225,,C\\r\\n1064,3,\"Dyker, Mr. Adolf Fredrik\",male,23,1,0,347072,13.9,,S\\r\\n1065,3,\"Torfa, Mr. Assad\",male,,0,0,2673,7.2292,,C\\r\\n1066,3,\"Asplund, Mr. Carl Oscar Vilhelm Gustafsson\",male,40,1,5,347077,31.3875,,S\\r\\n1067,2,\"Brown, Miss. Edith Eileen\",female,15,0,2,29750,39,,S\\r\\n1068,2,\"Sincock, Miss. Maude\",female,20,0,0,C.A. 33112,36.75,,S\\r\\n1069,1,\"Stengel, Mr. Charles Emil Henry\",male,54,1,0,11778,55.4417,C116,C\\r\\n1070,2,\"Becker, Mrs. Allen Oliver (Nellie E Baumgardner)\",female,36,0,3,230136,39,F4,S\\r\\n1071,1,\"Compton, Mrs. Alexander Taylor (Mary Eliza Ingersoll)\",female,64,0,2,PC 17756,83.1583,E45,C\\r\\n1072,2,\"McCrie, Mr. James Matthew\",male,30,0,0,233478,13,,S\\r\\n1073,1,\"Compton, Mr. Alexander Taylor Jr\",male,37,1,1,PC 17756,83.1583,E52,C\\r\\n1074,1,\"Marvin, Mrs. Daniel Warner (Mary Graham Carmichael Farquarson)\",female,18,1,0,113773,53.1,D30,S\\r\\n1075,3,\"Lane, Mr. Patrick\",male,,0,0,7935,7.75,,Q\\r\\n1076,1,\"Douglas, Mrs. Frederick Charles (Mary Helene Baxter)\",female,27,1,1,PC 17558,247.5208,B58 B60,C\\r\\n1077,2,\"Maybery, Mr. Frank Hubert\",male,40,0,0,239059,16,,S\\r\\n1078,2,\"Phillips, Miss. Alice Frances Louisa\",female,21,0,1,S.O./P.P. 2,21,,S\\r\\n1079,3,\"Davies, Mr. Joseph\",male,17,2,0,A/4 48873,8.05,,S\\r\\n1080,3,\"Sage, Miss. Ada\",female,,8,2,CA. 2343,69.55,,S\\r\\n1081,2,\"Veal, Mr. James\",male,40,0,0,28221,13,,S\\r\\n1082,2,\"Angle, Mr. William A\",male,34,1,0,226875,26,,S\\r\\n1083,1,\"Salomon, Mr. Abraham L\",male,,0,0,111163,26,,S\\r\\n1084,3,\"van Billiard, Master. Walter John\",male,11.5,1,1,A/5. 851,14.5,,S\\r\\n1085,2,\"Lingane, Mr. John\",male,61,0,0,235509,12.35,,Q\\r\\n1086,2,\"Drew, Master. Marshall Brines\",male,8,0,2,28220,32.5,,S\\r\\n1087,3,\"Karlsson, Mr. Julius Konrad Eugen\",male,33,0,0,347465,7.8542,,S\\r\\n1088,1,\"Spedden, Master. Robert Douglas\",male,6,0,2,16966,134.5,E34,C\\r\\n1089,3,\"Nilsson, Miss. Berta Olivia\",female,18,0,0,347066,7.775,,S\\r\\n1090,2,\"Baimbrigge, Mr. Charles Robert\",male,23,0,0,C.A. 31030,10.5,,S\\r\\n1091,3,\"Rasmussen, Mrs. (Lena Jacobsen Solvang)\",female,,0,0,65305,8.1125,,S\\r\\n1092,3,\"Murphy, Miss. Nora\",female,,0,0,36568,15.5,,Q\\r\\n1093,3,\"Danbom, Master. Gilbert Sigvard Emanuel\",male,0.33,0,2,347080,14.4,,S\\r\\n1094,1,\"Astor, Col. John Jacob\",male,47,1,0,PC 17757,227.525,C62 C64,C\\r\\n1095,2,\"Quick, Miss. Winifred Vera\",female,8,1,1,26360,26,,S\\r\\n1096,2,\"Andrew, Mr. Frank Thomas\",male,25,0,0,C.A. 34050,10.5,,S\\r\\n1097,1,\"Omont, Mr. Alfred Fernand\",male,,0,0,F.C. 12998,25.7417,,C\\r\\n1098,3,\"McGowan, Miss. Katherine\",female,35,0,0,9232,7.75,,Q\\r\\n1099,2,\"Collett, Mr. Sidney C Stuart\",male,24,0,0,28034,10.5,,S\\r\\n1100,1,\"Rosenbaum, Miss. Edith Louise\",female,33,0,0,PC 17613,27.7208,A11,C\\r\\n1101,3,\"Delalic, Mr. Redjo\",male,25,0,0,349250,7.8958,,S\\r\\n1102,3,\"Andersen, Mr. Albert Karvin\",male,32,0,0,C 4001,22.525,,S\\r\\n1103,3,\"Finoli, Mr. Luigi\",male,,0,0,SOTON/O.Q. 3101308,7.05,,S\\r\\n1104,2,\"Deacon, Mr. Percy William\",male,17,0,0,S.O.C. 14879,73.5,,S\\r\\n1105,2,\"Howard, Mrs. Benjamin (Ellen Truelove Arman)\",female,60,1,0,24065,26,,S\\r\\n1106,3,\"Andersson, Miss. Ida Augusta Margareta\",female,38,4,2,347091,7.775,,S\\r\\n1107,1,\"Head, Mr. Christopher\",male,42,0,0,113038,42.5,B11,S\\r\\n1108,3,\"Mahon, Miss. Bridget Delia\",female,,0,0,330924,7.8792,,Q\\r\\n1109,1,\"Wick, Mr. George Dennick\",male,57,1,1,36928,164.8667,,S\\r\\n1110,1,\"Widener, Mrs. George Dunton (Eleanor Elkins)\",female,50,1,1,113503,211.5,C80,C\\r\\n1111,3,\"Thomson, Mr. Alexander Morrison\",male,,0,0,32302,8.05,,S\\r\\n1112,2,\"Duran y More, Miss. Florentina\",female,30,1,0,SC/PARIS 2148,13.8583,,C\\r\\n1113,3,\"Reynolds, Mr. Harold J\",male,21,0,0,342684,8.05,,S\\r\\n1114,2,\"Cook, Mrs. (Selena Rogers)\",female,22,0,0,W./C. 14266,10.5,F33,S\\r\\n1115,3,\"Karlsson, Mr. Einar Gervasius\",male,21,0,0,350053,7.7958,,S\\r\\n1116,1,\"Candee, Mrs. Edward (Helen Churchill Hungerford)\",female,53,0,0,PC 17606,27.4458,,C\\r\\n1117,3,\"Moubarek, Mrs. George (Omine Amenia\"\" Alexander)\"\"\",female,,0,2,2661,15.2458,,C\\r\\n1118,3,\"Asplund, Mr. Johan Charles\",male,23,0,0,350054,7.7958,,S\\r\\n1119,3,\"McNeill, Miss. Bridget\",female,,0,0,370368,7.75,,Q\\r\\n1120,3,\"Everett, Mr. Thomas James\",male,40.5,0,0,C.A. 6212,15.1,,S\\r\\n1121,2,\"Hocking, Mr. Samuel James Metcalfe\",male,36,0,0,242963,13,,S\\r\\n1122,2,\"Sweet, Mr. George Frederick\",male,14,0,0,220845,65,,S\\r\\n1123,1,\"Willard, Miss. Constance\",female,21,0,0,113795,26.55,,S\\r\\n1124,3,\"Wiklund, Mr. Karl Johan\",male,21,1,0,3101266,6.4958,,S\\r\\n1125,3,\"Linehan, Mr. Michael\",male,,0,0,330971,7.8792,,Q\\r\\n1126,1,\"Cumings, Mr. John Bradley\",male,39,1,0,PC 17599,71.2833,C85,C\\r\\n1127,3,\"Vendel, Mr. Olof Edvin\",male,20,0,0,350416,7.8542,,S\\r\\n1128,1,\"Warren, Mr. Frank Manley\",male,64,1,0,110813,75.25,D37,C\\r\\n1129,3,\"Baccos, Mr. Raffull\",male,20,0,0,2679,7.225,,C\\r\\n1130,2,\"Hiltunen, Miss. Marta\",female,18,1,1,250650,13,,S\\r\\n1131,1,\"Douglas, Mrs. Walter Donald (Mahala Dutton)\",female,48,1,0,PC 17761,106.425,C86,C\\r\\n1132,1,\"Lindstrom, Mrs. Carl Johan (Sigrid Posse)\",female,55,0,0,112377,27.7208,,C\\r\\n1133,2,\"Christy, Mrs. (Alice Frances)\",female,45,0,2,237789,30,,S\\r\\n1134,1,\"Spedden, Mr. Frederic Oakley\",male,45,1,1,16966,134.5,E34,C\\r\\n1135,3,\"Hyman, Mr. Abraham\",male,,0,0,3470,7.8875,,S\\r\\n1136,3,\"Johnston, Master. William Arthur Willie\"\"\"\"\",male,,1,2,W./C. 6607,23.45,,S\\r\\n1137,1,\"Kenyon, Mr. Frederick R\",male,41,1,0,17464,51.8625,D21,S\\r\\n1138,2,\"Karnes, Mrs. J Frank (Claire Bennett)\",female,22,0,0,F.C.C. 13534,21,,S\\r\\n1139,2,\"Drew, Mr. James Vivian\",male,42,1,1,28220,32.5,,S\\r\\n1140,2,\"Hold, Mrs. Stephen (Annie Margaret Hill)\",female,29,1,0,26707,26,,S\\r\\n1141,3,\"Khalil, Mrs. Betros (Zahie Maria\"\" Elias)\"\"\",female,,1,0,2660,14.4542,,C\\r\\n1142,2,\"West, Miss. Barbara J\",female,0.92,1,2,C.A. 34651,27.75,,S\\r\\n1143,3,\"Abrahamsson, Mr. Abraham August Johannes\",male,20,0,0,SOTON/O2 3101284,7.925,,S\\r\\n1144,1,\"Clark, Mr. Walter Miller\",male,27,1,0,13508,136.7792,C89,C\\r\\n1145,3,\"Salander, Mr. Karl Johan\",male,24,0,0,7266,9.325,,S\\r\\n1146,3,\"Wenzel, Mr. Linhart\",male,32.5,0,0,345775,9.5,,S\\r\\n1147,3,\"MacKay, Mr. George William\",male,,0,0,C.A. 42795,7.55,,S\\r\\n1148,3,\"Mahon, Mr. John\",male,,0,0,AQ/4 3130,7.75,,Q\\r\\n1149,3,\"Niklasson, Mr. Samuel\",male,28,0,0,363611,8.05,,S\\r\\n1150,2,\"Bentham, Miss. Lilian W\",female,19,0,0,28404,13,,S\\r\\n1151,3,\"Midtsjo, Mr. Karl Albert\",male,21,0,0,345501,7.775,,S\\r\\n1152,3,\"de Messemaeker, Mr. Guillaume Joseph\",male,36.5,1,0,345572,17.4,,S\\r\\n1153,3,\"Nilsson, Mr. August Ferdinand\",male,21,0,0,350410,7.8542,,S\\r\\n1154,2,\"Wells, Mrs. Arthur Henry (Addie\"\" Dart Trevaskis)\"\"\",female,29,0,2,29103,23,,S\\r\\n1155,3,\"Klasen, Miss. Gertrud Emilia\",female,1,1,1,350405,12.1833,,S\\r\\n1156,2,\"Portaluppi, Mr. Emilio Ilario Giuseppe\",male,30,0,0,C.A. 34644,12.7375,,C\\r\\n1157,3,\"Lyntakoff, Mr. Stanko\",male,,0,0,349235,7.8958,,S\\r\\n1158,1,\"Chisholm, Mr. Roderick Robert Crispin\",male,,0,0,112051,0,,S\\r\\n1159,3,\"Warren, Mr. Charles William\",male,,0,0,C.A. 49867,7.55,,S\\r\\n1160,3,\"Howard, Miss. May Elizabeth\",female,,0,0,A. 2. 39186,8.05,,S\\r\\n1161,3,\"Pokrnic, Mr. Mate\",male,17,0,0,315095,8.6625,,S\\r\\n1162,1,\"McCaffry, Mr. Thomas Francis\",male,46,0,0,13050,75.2417,C6,C\\r\\n1163,3,\"Fox, Mr. Patrick\",male,,0,0,368573,7.75,,Q\\r\\n1164,1,\"Clark, Mrs. Walter Miller (Virginia McDowell)\",female,26,1,0,13508,136.7792,C89,C\\r\\n1165,3,\"Lennon, Miss. Mary\",female,,1,0,370371,15.5,,Q\\r\\n1166,3,\"Saade, Mr. Jean Nassr\",male,,0,0,2676,7.225,,C\\r\\n1167,2,\"Bryhl, Miss. Dagmar Jenny Ingeborg \",female,20,1,0,236853,26,,S\\r\\n1168,2,\"Parker, Mr. Clifford Richard\",male,28,0,0,SC 14888,10.5,,S\\r\\n1169,2,\"Faunthorpe, Mr. Harry\",male,40,1,0,2926,26,,S\\r\\n1170,2,\"Ware, Mr. John James\",male,30,1,0,CA 31352,21,,S\\r\\n1171,2,\"Oxenham, Mr. Percy Thomas\",male,22,0,0,W./C. 14260,10.5,,S\\r\\n1172,3,\"Oreskovic, Miss. Jelka\",female,23,0,0,315085,8.6625,,S\\r\\n1173,3,\"Peacock, Master. Alfred Edward\",male,0.75,1,1,SOTON/O.Q. 3101315,13.775,,S\\r\\n1174,3,\"Fleming, Miss. Honora\",female,,0,0,364859,7.75,,Q\\r\\n1175,3,\"Touma, Miss. Maria Youssef\",female,9,1,1,2650,15.2458,,C\\r\\n1176,3,\"Rosblom, Miss. Salli Helena\",female,2,1,1,370129,20.2125,,S\\r\\n1177,3,\"Dennis, Mr. William\",male,36,0,0,A/5 21175,7.25,,S\\r\\n1178,3,\"Franklin, Mr. Charles (Charles Fardon)\",male,,0,0,SOTON/O.Q. 3101314,7.25,,S\\r\\n1179,1,\"Snyder, Mr. John Pillsbury\",male,24,1,0,21228,82.2667,B45,S\\r\\n1180,3,\"Mardirosian, Mr. Sarkis\",male,,0,0,2655,7.2292,F E46,C\\r\\n1181,3,\"Ford, Mr. Arthur\",male,,0,0,A/5 1478,8.05,,S\\r\\n1182,1,\"Rheims, Mr. George Alexander Lucien\",male,,0,0,PC 17607,39.6,,S\\r\\n1183,3,\"Daly, Miss. Margaret Marcella Maggie\"\"\"\"\",female,30,0,0,382650,6.95,,Q\\r\\n1184,3,\"Nasr, Mr. Mustafa\",male,,0,0,2652,7.2292,,C\\r\\n1185,1,\"Dodge, Dr. Washington\",male,53,1,1,33638,81.8583,A34,S\\r\\n1186,3,\"Wittevrongel, Mr. Camille\",male,36,0,0,345771,9.5,,S\\r\\n1187,3,\"Angheloff, Mr. Minko\",male,26,0,0,349202,7.8958,,S\\r\\n1188,2,\"Laroche, Miss. Louise\",female,1,1,2,SC/Paris 2123,41.5792,,C\\r\\n1189,3,\"Samaan, Mr. Hanna\",male,,2,0,2662,21.6792,,C\\r\\n1190,1,\"Loring, Mr. Joseph Holland\",male,30,0,0,113801,45.5,,S\\r\\n1191,3,\"Johansson, Mr. Nils\",male,29,0,0,347467,7.8542,,S\\r\\n1192,3,\"Olsson, Mr. Oscar Wilhelm\",male,32,0,0,347079,7.775,,S\\r\\n1193,2,\"Malachard, Mr. Noel\",male,,0,0,237735,15.0458,D,C\\r\\n1194,2,\"Phillips, Mr. Escott Robert\",male,43,0,1,S.O./P.P. 2,21,,S\\r\\n1195,3,\"Pokrnic, Mr. Tome\",male,24,0,0,315092,8.6625,,S\\r\\n1196,3,\"McCarthy, Miss. Catherine Katie\"\"\"\"\",female,,0,0,383123,7.75,,Q\\r\\n1197,1,\"Crosby, Mrs. Edward Gifford (Catherine Elizabeth Halstead)\",female,64,1,1,112901,26.55,B26,S\\r\\n1198,1,\"Allison, Mr. Hudson Joshua Creighton\",male,30,1,2,113781,151.55,C22 C26,S\\r\\n1199,3,\"Aks, Master. Philip Frank\",male,0.83,0,1,392091,9.35,,S\\r\\n1200,1,\"Hays, Mr. Charles Melville\",male,55,1,1,12749,93.5,B69,S\\r\\n1201,3,\"Hansen, Mrs. Claus Peter (Jennie L Howard)\",female,45,1,0,350026,14.1083,,S\\r\\n1202,3,\"Cacic, Mr. Jego Grga\",male,18,0,0,315091,8.6625,,S\\r\\n1203,3,\"Vartanian, Mr. David\",male,22,0,0,2658,7.225,,C\\r\\n1204,3,\"Sadowitz, Mr. Harry\",male,,0,0,LP 1588,7.575,,S\\r\\n1205,3,\"Carr, Miss. Jeannie\",female,37,0,0,368364,7.75,,Q\\r\\n1206,1,\"White, Mrs. John Stuart (Ella Holmes)\",female,55,0,0,PC 17760,135.6333,C32,C\\r\\n1207,3,\"Hagardon, Miss. Kate\",female,17,0,0,AQ/3. 30631,7.7333,,Q\\r\\n1208,1,\"Spencer, Mr. William Augustus\",male,57,1,0,PC 17569,146.5208,B78,C\\r\\n1209,2,\"Rogers, Mr. Reginald Harry\",male,19,0,0,28004,10.5,,S\\r\\n1210,3,\"Jonsson, Mr. Nils Hilding\",male,27,0,0,350408,7.8542,,S\\r\\n1211,2,\"Jefferys, Mr. Ernest Wilfred\",male,22,2,0,C.A. 31029,31.5,,S\\r\\n1212,3,\"Andersson, Mr. Johan Samuel\",male,26,0,0,347075,7.775,,S\\r\\n1213,3,\"Krekorian, Mr. Neshan\",male,25,0,0,2654,7.2292,F E57,C\\r\\n1214,2,\"Nesson, Mr. Israel\",male,26,0,0,244368,13,F2,S\\r\\n1215,1,\"Rowe, Mr. Alfred G\",male,33,0,0,113790,26.55,,S\\r\\n1216,1,\"Kreuchen, Miss. Emilie\",female,39,0,0,24160,211.3375,,S\\r\\n1217,3,\"Assam, Mr. Ali\",male,23,0,0,SOTON/O.Q. 3101309,7.05,,S\\r\\n1218,2,\"Becker, Miss. Ruth Elizabeth\",female,12,2,1,230136,39,F4,S\\r\\n1219,1,\"Rosenshine, Mr. George (Mr George Thorne\"\")\"\"\",male,46,0,0,PC 17585,79.2,,C\\r\\n1220,2,\"Clarke, Mr. Charles Valentine\",male,29,1,0,2003,26,,S\\r\\n1221,2,\"Enander, Mr. Ingvar\",male,21,0,0,236854,13,,S\\r\\n1222,2,\"Davies, Mrs. John Morgan (Elizabeth Agnes Mary White) \",female,48,0,2,C.A. 33112,36.75,,S\\r\\n1223,1,\"Dulles, Mr. William Crothers\",male,39,0,0,PC 17580,29.7,A18,C\\r\\n1224,3,\"Thomas, Mr. Tannous\",male,,0,0,2684,7.225,,C\\r\\n1225,3,\"Nakid, Mrs. Said (Waika Mary\"\" Mowad)\"\"\",female,19,1,1,2653,15.7417,,C\\r\\n1226,3,\"Cor, Mr. Ivan\",male,27,0,0,349229,7.8958,,S\\r\\n1227,1,\"Maguire, Mr. John Edward\",male,30,0,0,110469,26,C106,S\\r\\n1228,2,\"de Brito, Mr. Jose Joaquim\",male,32,0,0,244360,13,,S\\r\\n1229,3,\"Elias, Mr. Joseph\",male,39,0,2,2675,7.2292,,C\\r\\n1230,2,\"Denbury, Mr. Herbert\",male,25,0,0,C.A. 31029,31.5,,S\\r\\n1231,3,\"Betros, Master. Seman\",male,,0,0,2622,7.2292,,C\\r\\n1232,2,\"Fillbrook, Mr. Joseph Charles\",male,18,0,0,C.A. 15185,10.5,,S\\r\\n1233,3,\"Lundstrom, Mr. Thure Edvin\",male,32,0,0,350403,7.5792,,S\\r\\n1234,3,\"Sage, Mr. John George\",male,,1,9,CA. 2343,69.55,,S\\r\\n1235,1,\"Cardeza, Mrs. James Warburton Martinez (Charlotte Wardle Drake)\",female,58,0,1,PC 17755,512.3292,B51 B53 B55,C\\r\\n1236,3,\"van Billiard, Master. James William\",male,,1,1,A/5. 851,14.5,,S\\r\\n1237,3,\"Abelseth, Miss. Karen Marie\",female,16,0,0,348125,7.65,,S\\r\\n1238,2,\"Botsford, Mr. William Hull\",male,26,0,0,237670,13,,S\\r\\n1239,3,\"Whabee, Mrs. George Joseph (Shawneene Abi-Saab)\",female,38,0,0,2688,7.2292,,C\\r\\n1240,2,\"Giles, Mr. Ralph\",male,24,0,0,248726,13.5,,S\\r\\n1241,2,\"Walcroft, Miss. Nellie\",female,31,0,0,F.C.C. 13528,21,,S\\r\\n1242,1,\"Greenfield, Mrs. Leo David (Blanche Strouse)\",female,45,0,1,PC 17759,63.3583,D10 D12,C\\r\\n1243,2,\"Stokes, Mr. Philip Joseph\",male,25,0,0,F.C.C. 13540,10.5,,S\\r\\n1244,2,\"Dibden, Mr. William\",male,18,0,0,S.O.C. 14879,73.5,,S\\r\\n1245,2,\"Herman, Mr. Samuel\",male,49,1,2,220845,65,,S\\r\\n1246,3,\"Dean, Miss. Elizabeth Gladys Millvina\"\"\"\"\",female,0.17,1,2,C.A. 2315,20.575,,S\\r\\n1247,1,\"Julian, Mr. Henry Forbes\",male,50,0,0,113044,26,E60,S\\r\\n1248,1,\"Brown, Mrs. John Murray (Caroline Lane Lamson)\",female,59,2,0,11769,51.4792,C101,S\\r\\n1249,3,\"Lockyer, Mr. Edward\",male,,0,0,1222,7.8792,,S\\r\\n1250,3,\"O\\'Keefe, Mr. Patrick\",male,,0,0,368402,7.75,,Q\\r\\n1251,3,\"Lindell, Mrs. Edvard Bengtsson (Elin Gerda Persson)\",female,30,1,0,349910,15.55,,S\\r\\n1252,3,\"Sage, Master. William Henry\",male,14.5,8,2,CA. 2343,69.55,,S\\r\\n1253,2,\"Mallet, Mrs. Albert (Antoinette Magnin)\",female,24,1,1,S.C./PARIS 2079,37.0042,,C\\r\\n1254,2,\"Ware, Mrs. John James (Florence Louise Long)\",female,31,0,0,CA 31352,21,,S\\r\\n1255,3,\"Strilic, Mr. Ivan\",male,27,0,0,315083,8.6625,,S\\r\\n1256,1,\"Harder, Mrs. George Achilles (Dorothy Annan)\",female,25,1,0,11765,55.4417,E50,C\\r\\n1257,3,\"Sage, Mrs. John (Annie Bullen)\",female,,1,9,CA. 2343,69.55,,S\\r\\n1258,3,\"Caram, Mr. Joseph\",male,,1,0,2689,14.4583,,C\\r\\n1259,3,\"Riihivouri, Miss. Susanna Juhantytar Sanni\"\"\"\"\",female,22,0,0,3101295,39.6875,,S\\r\\n1260,1,\"Gibson, Mrs. Leonard (Pauline C Boeson)\",female,45,0,1,112378,59.4,,C\\r\\n1261,2,\"Pallas y Castello, Mr. Emilio\",male,29,0,0,SC/PARIS 2147,13.8583,,C\\r\\n1262,2,\"Giles, Mr. Edgar\",male,21,1,0,28133,11.5,,S\\r\\n1263,1,\"Wilson, Miss. Helen Alice\",female,31,0,0,16966,134.5,E39 E41,C\\r\\n1264,1,\"Ismay, Mr. Joseph Bruce\",male,49,0,0,112058,0,B52 B54 B56,S\\r\\n1265,2,\"Harbeck, Mr. William H\",male,44,0,0,248746,13,,S\\r\\n1266,1,\"Dodge, Mrs. Washington (Ruth Vidaver)\",female,54,1,1,33638,81.8583,A34,S\\r\\n1267,1,\"Bowen, Miss. Grace Scott\",female,45,0,0,PC 17608,262.375,,C\\r\\n1268,3,\"Kink, Miss. Maria\",female,22,2,0,315152,8.6625,,S\\r\\n1269,2,\"Cotterill, Mr. Henry Harry\"\"\"\"\",male,21,0,0,29107,11.5,,S\\r\\n1270,1,\"Hipkins, Mr. William Edward\",male,55,0,0,680,50,C39,S\\r\\n1271,3,\"Asplund, Master. Carl Edgar\",male,5,4,2,347077,31.3875,,S\\r\\n1272,3,\"O\\'Connor, Mr. Patrick\",male,,0,0,366713,7.75,,Q\\r\\n1273,3,\"Foley, Mr. Joseph\",male,26,0,0,330910,7.8792,,Q\\r\\n1274,3,\"Risien, Mrs. Samuel (Emma)\",female,,0,0,364498,14.5,,S\\r\\n1275,3,\"McNamee, Mrs. Neal (Eileen O\\'Leary)\",female,19,1,0,376566,16.1,,S\\r\\n1276,2,\"Wheeler, Mr. Edwin Frederick\"\"\"\"\",male,,0,0,SC/PARIS 2159,12.875,,S\\r\\n1277,2,\"Herman, Miss. Kate\",female,24,1,2,220845,65,,S\\r\\n1278,3,\"Aronsson, Mr. Ernst Axel Algot\",male,24,0,0,349911,7.775,,S\\r\\n1279,2,\"Ashby, Mr. John\",male,57,0,0,244346,13,,S\\r\\n1280,3,\"Canavan, Mr. Patrick\",male,21,0,0,364858,7.75,,Q\\r\\n1281,3,\"Palsson, Master. Paul Folke\",male,6,3,1,349909,21.075,,S\\r\\n1282,1,\"Payne, Mr. Vivian Ponsonby\",male,23,0,0,12749,93.5,B24,S\\r\\n1283,1,\"Lines, Mrs. Ernest H (Elizabeth Lindsey James)\",female,51,0,1,PC 17592,39.4,D28,S\\r\\n1284,3,\"Abbott, Master. Eugene Joseph\",male,13,0,2,C.A. 2673,20.25,,S\\r\\n1285,2,\"Gilbert, Mr. William\",male,47,0,0,C.A. 30769,10.5,,S\\r\\n1286,3,\"Kink-Heilmann, Mr. Anton\",male,29,3,1,315153,22.025,,S\\r\\n1287,1,\"Smith, Mrs. Lucien Philip (Mary Eloise Hughes)\",female,18,1,0,13695,60,C31,S\\r\\n1288,3,\"Colbert, Mr. Patrick\",male,24,0,0,371109,7.25,,Q\\r\\n1289,1,\"Frolicher-Stehli, Mrs. Maxmillian (Margaretha Emerentia Stehli)\",female,48,1,1,13567,79.2,B41,C\\r\\n1290,3,\"Larsson-Rondberg, Mr. Edvard A\",male,22,0,0,347065,7.775,,S\\r\\n1291,3,\"Conlon, Mr. Thomas Henry\",male,31,0,0,21332,7.7333,,Q\\r\\n1292,1,\"Bonnell, Miss. Caroline\",female,30,0,0,36928,164.8667,C7,S\\r\\n1293,2,\"Gale, Mr. Harry\",male,38,1,0,28664,21,,S\\r\\n1294,1,\"Gibson, Miss. Dorothy Winifred\",female,22,0,1,112378,59.4,,C\\r\\n1295,1,\"Carrau, Mr. Jose Pedro\",male,17,0,0,113059,47.1,,S\\r\\n1296,1,\"Frauenthal, Mr. Isaac Gerald\",male,43,1,0,17765,27.7208,D40,C\\r\\n1297,2,\"Nourney, Mr. Alfred (Baron von Drachstedt\"\")\"\"\",male,20,0,0,SC/PARIS 2166,13.8625,D38,C\\r\\n1298,2,\"Ware, Mr. William Jeffery\",male,23,1,0,28666,10.5,,S\\r\\n1299,1,\"Widener, Mr. George Dunton\",male,50,1,1,113503,211.5,C80,C\\r\\n1300,3,\"Riordan, Miss. Johanna Hannah\"\"\"\"\",female,,0,0,334915,7.7208,,Q\\r\\n1301,3,\"Peacock, Miss. Treasteall\",female,3,1,1,SOTON/O.Q. 3101315,13.775,,S\\r\\n1302,3,\"Naughton, Miss. Hannah\",female,,0,0,365237,7.75,,Q\\r\\n1303,1,\"Minahan, Mrs. William Edward (Lillian E Thorpe)\",female,37,1,0,19928,90,C78,Q\\r\\n1304,3,\"Henriksson, Miss. Jenny Lovisa\",female,28,0,0,347086,7.775,,S\\r\\n1305,3,\"Spector, Mr. Woolf\",male,,0,0,A.5. 3236,8.05,,S\\r\\n1306,1,\"Oliva y Ocana, Dona. Fermina\",female,39,0,0,PC 17758,108.9,C105,C\\r\\n1307,3,\"Saether, Mr. Simon Sivertsen\",male,38.5,0,0,SOTON/O.Q. 3101262,7.25,,S\\r\\n1308,3,\"Ware, Mr. Frederick\",male,,0,0,359309,8.05,,S\\r\\n1309,3,\"Peter, Master. Michael J\",male,,1,1,2668,22.3583,,C\\r\\n'}"
            ]
          },
          "metadata": {
            "tags": []
          },
          "execution_count": 81
        }
      ]
    },
    {
      "cell_type": "code",
      "metadata": {
        "id": "y3OMVPkGf-1x"
      },
      "source": [
        "import pandas as pd\n",
        "\n",
        "df = pd.read_csv(\"test.csv\") # csv 파일 불러오기"
      ],
      "execution_count": 179,
      "outputs": []
    },
    {
      "cell_type": "code",
      "metadata": {
        "colab": {
          "base_uri": "https://localhost:8080/"
        },
        "id": "OH7EcEQlgAhl",
        "outputId": "5ad03d8f-323c-4bd2-e300-bec4bd0fc3c4"
      },
      "source": [
        "#결측값 여부 확인\n",
        "print(df['Age'].isnull().sum())\n",
        "print(df['Pclass'].isnull().sum())\n",
        "print(df['Fare'].isnull().sum())\n",
        "print(df['Sex'].isnull().sum())"
      ],
      "execution_count": 180,
      "outputs": [
        {
          "output_type": "stream",
          "text": [
            "86\n",
            "0\n",
            "1\n",
            "0\n"
          ],
          "name": "stdout"
        }
      ]
    },
    {
      "cell_type": "code",
      "metadata": {
        "colab": {
          "base_uri": "https://localhost:8080/"
        },
        "id": "ZOFjq7j0RmGl",
        "outputId": "f462d62d-aea7-4607-9ab0-85940fda25cb"
      },
      "source": [
        "# info 함수를 이용해 데이터 정보 확인 후 결측값을 채워주세요\n",
        "##############################################\n",
        "# 참고 => Fare의 결측값 하나 해결\n",
        "df['Fare'].fillna(df['Fare'].mean(), inplace=True)\n",
        "\n",
        "\n",
        "#신분별로 구분하여 age 평균내기\n",
        "#방법이 도저히 생각나지 않아 엄청 꼬아서 풀었습니다.\n",
        "#copy에서는 값의 대입이 안된다고 하여 새로 값을 옮긴 후 각기 채워주고\n",
        "#합쳐서 정렬한 후 새로이 데이터를 넣었습니다.\n",
        "\n",
        "#새로 값을 옮기기(신분별로 구분해서)\n",
        "new_mr = df[df['Name'].str.contains('Mr\\.')]['Age']\n",
        "new_mrs = df[df['Name'].str.contains('Mrs\\.')]['Age']\n",
        "new_miss = df[df['Name'].str.contains('Miss\\.')]['Age']\n",
        "new_ms = df[df['Name'].str.contains('Ms\\.')]['Age']\n",
        "new_mas = df[df['Name'].str.contains('Master\\.')]['Age']\n",
        "\n",
        "#옮긴 값들 각기 결측값 채워주기\n",
        "new_mr.fillna(new_mr.mean(), inplace=True)\n",
        "new_mrs.fillna(new_mrs.mean(), inplace=True)\n",
        "new_miss.fillna(new_miss.mean(), inplace=True)\n",
        "new_ms.fillna(new_miss.mean(), inplace=True)\n",
        "new_mas.fillna(new_mas.mean(), inplace=True)\n",
        "\n",
        "#하나로 합쳐서 정렬 후 대입하기\n",
        "new = new_mr\n",
        "new = new.append(new_mrs)\n",
        "new = new.append(new_miss)\n",
        "new = new.append(new_ms)\n",
        "new = new.append(new_mas)\n",
        "new = new.sort_index()\n",
        "\n",
        "for i in new.index:\n",
        "  df['Age'][i] = new[i]\n",
        "##############################################\n",
        "\n",
        "#df = [             ] # Pclass, Sex, Age, Fare 열 추출\n",
        "#열 추출이 필요한지 모르겠어서 일단 패스\n",
        "\n",
        "# replace 함수를 이용해 female, male을 각각 정수 0과 1로 치환해주세요\n",
        "##############################################\n",
        "df['Sex'] = df['Sex'].replace(\"male\", 1)\n",
        "df['Sex'] = df['Sex'].replace(\"female\", 0)\n",
        "##############################################\n",
        "\n",
        "\n",
        "# Pclass, Age, Fare의 값을 모두 각각의 최댓값으로 나누어 준 뒤\n",
        "# Pclass와 Age는 소수점 첫째자리까지 반올림\n",
        "# Fare는 소수점 셋째자리까지 반올림해주세요\n",
        "##############################################\n",
        "size = df.shape[0] #len 함수 사용해도 됨\n",
        "max_Pclass = max(df['Pclass'])\n",
        "max_Age = max(df['Age'])\n",
        "max_Fare = max(df['Fare'])\n",
        "for i in range(0, size):\n",
        "  df['Pclass'][i] = round(df['Pclass'][i]/max_Pclass, 1)\n",
        "  df['Age'][i] = round(df['Age'][i]/max_Age, 1)\n",
        "  df['Fare'][i] = round(df['Fare'][i]/max_Fare, 3)\n",
        "\n",
        "##############################################\n",
        "df.to_csv(\"new_df.csv\")\n",
        "# 수정된 데이터프레임을 csv로 저장하여 올려주세요"
      ],
      "execution_count": 181,
      "outputs": [
        {
          "output_type": "stream",
          "text": [
            "/usr/local/lib/python3.7/dist-packages/pandas/core/series.py:4536: SettingWithCopyWarning: \n",
            "A value is trying to be set on a copy of a slice from a DataFrame\n",
            "\n",
            "See the caveats in the documentation: https://pandas.pydata.org/pandas-docs/stable/user_guide/indexing.html#returning-a-view-versus-a-copy\n",
            "  downcast=downcast,\n",
            "/usr/local/lib/python3.7/dist-packages/ipykernel_launcher.py:35: SettingWithCopyWarning: \n",
            "A value is trying to be set on a copy of a slice from a DataFrame\n",
            "\n",
            "See the caveats in the documentation: https://pandas.pydata.org/pandas-docs/stable/user_guide/indexing.html#returning-a-view-versus-a-copy\n",
            "/usr/local/lib/python3.7/dist-packages/ipykernel_launcher.py:57: SettingWithCopyWarning: \n",
            "A value is trying to be set on a copy of a slice from a DataFrame\n",
            "\n",
            "See the caveats in the documentation: https://pandas.pydata.org/pandas-docs/stable/user_guide/indexing.html#returning-a-view-versus-a-copy\n",
            "/usr/local/lib/python3.7/dist-packages/ipykernel_launcher.py:58: SettingWithCopyWarning: \n",
            "A value is trying to be set on a copy of a slice from a DataFrame\n",
            "\n",
            "See the caveats in the documentation: https://pandas.pydata.org/pandas-docs/stable/user_guide/indexing.html#returning-a-view-versus-a-copy\n",
            "/usr/local/lib/python3.7/dist-packages/ipykernel_launcher.py:59: SettingWithCopyWarning: \n",
            "A value is trying to be set on a copy of a slice from a DataFrame\n",
            "\n",
            "See the caveats in the documentation: https://pandas.pydata.org/pandas-docs/stable/user_guide/indexing.html#returning-a-view-versus-a-copy\n"
          ],
          "name": "stderr"
        }
      ]
    },
    {
      "cell_type": "code",
      "metadata": {
        "id": "S_oMjFV9o2bZ",
        "outputId": "7abefa08-a90e-4e7d-8ba6-6f4a21b5df92",
        "colab": {
          "base_uri": "https://localhost:8080/"
        }
      },
      "source": [
        "#결측값 여부 재확인\n",
        "print(df['Age'].isnull().sum())\n",
        "print(df['Pclass'].isnull().sum())\n",
        "print(df['Fare'].isnull().sum())\n",
        "print(df['Sex'].isnull().sum())"
      ],
      "execution_count": 182,
      "outputs": [
        {
          "output_type": "stream",
          "text": [
            "0\n",
            "0\n",
            "0\n",
            "0\n"
          ],
          "name": "stdout"
        }
      ]
    },
    {
      "cell_type": "code",
      "metadata": {
        "id": "J1clNvSiRzs0"
      },
      "source": [
        ""
      ],
      "execution_count": null,
      "outputs": []
    }
  ]
}