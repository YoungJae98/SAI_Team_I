{
  "nbformat": 4,
  "nbformat_minor": 0,
  "metadata": {
    "colab": {
      "name": "5주차 4번.ipynb",
      "provenance": [],
      "collapsed_sections": []
    },
    "kernelspec": {
      "name": "python3",
      "display_name": "Python 3"
    },
    "language_info": {
      "name": "python"
    }
  },
  "cells": [
    {
      "cell_type": "code",
      "metadata": {
        "colab": {
          "resources": {
            "http://localhost:8080/nbextensions/google.colab/files.js": {
              "data": "Ly8gQ29weXJpZ2h0IDIwMTcgR29vZ2xlIExMQwovLwovLyBMaWNlbnNlZCB1bmRlciB0aGUgQXBhY2hlIExpY2Vuc2UsIFZlcnNpb24gMi4wICh0aGUgIkxpY2Vuc2UiKTsKLy8geW91IG1heSBub3QgdXNlIHRoaXMgZmlsZSBleGNlcHQgaW4gY29tcGxpYW5jZSB3aXRoIHRoZSBMaWNlbnNlLgovLyBZb3UgbWF5IG9idGFpbiBhIGNvcHkgb2YgdGhlIExpY2Vuc2UgYXQKLy8KLy8gICAgICBodHRwOi8vd3d3LmFwYWNoZS5vcmcvbGljZW5zZXMvTElDRU5TRS0yLjAKLy8KLy8gVW5sZXNzIHJlcXVpcmVkIGJ5IGFwcGxpY2FibGUgbGF3IG9yIGFncmVlZCB0byBpbiB3cml0aW5nLCBzb2Z0d2FyZQovLyBkaXN0cmlidXRlZCB1bmRlciB0aGUgTGljZW5zZSBpcyBkaXN0cmlidXRlZCBvbiBhbiAiQVMgSVMiIEJBU0lTLAovLyBXSVRIT1VUIFdBUlJBTlRJRVMgT1IgQ09ORElUSU9OUyBPRiBBTlkgS0lORCwgZWl0aGVyIGV4cHJlc3Mgb3IgaW1wbGllZC4KLy8gU2VlIHRoZSBMaWNlbnNlIGZvciB0aGUgc3BlY2lmaWMgbGFuZ3VhZ2UgZ292ZXJuaW5nIHBlcm1pc3Npb25zIGFuZAovLyBsaW1pdGF0aW9ucyB1bmRlciB0aGUgTGljZW5zZS4KCi8qKgogKiBAZmlsZW92ZXJ2aWV3IEhlbHBlcnMgZm9yIGdvb2dsZS5jb2xhYiBQeXRob24gbW9kdWxlLgogKi8KKGZ1bmN0aW9uKHNjb3BlKSB7CmZ1bmN0aW9uIHNwYW4odGV4dCwgc3R5bGVBdHRyaWJ1dGVzID0ge30pIHsKICBjb25zdCBlbGVtZW50ID0gZG9jdW1lbnQuY3JlYXRlRWxlbWVudCgnc3BhbicpOwogIGVsZW1lbnQudGV4dENvbnRlbnQgPSB0ZXh0OwogIGZvciAoY29uc3Qga2V5IG9mIE9iamVjdC5rZXlzKHN0eWxlQXR0cmlidXRlcykpIHsKICAgIGVsZW1lbnQuc3R5bGVba2V5XSA9IHN0eWxlQXR0cmlidXRlc1trZXldOwogIH0KICByZXR1cm4gZWxlbWVudDsKfQoKLy8gTWF4IG51bWJlciBvZiBieXRlcyB3aGljaCB3aWxsIGJlIHVwbG9hZGVkIGF0IGEgdGltZS4KY29uc3QgTUFYX1BBWUxPQURfU0laRSA9IDEwMCAqIDEwMjQ7CgpmdW5jdGlvbiBfdXBsb2FkRmlsZXMoaW5wdXRJZCwgb3V0cHV0SWQpIHsKICBjb25zdCBzdGVwcyA9IHVwbG9hZEZpbGVzU3RlcChpbnB1dElkLCBvdXRwdXRJZCk7CiAgY29uc3Qgb3V0cHV0RWxlbWVudCA9IGRvY3VtZW50LmdldEVsZW1lbnRCeUlkKG91dHB1dElkKTsKICAvLyBDYWNoZSBzdGVwcyBvbiB0aGUgb3V0cHV0RWxlbWVudCB0byBtYWtlIGl0IGF2YWlsYWJsZSBmb3IgdGhlIG5leHQgY2FsbAogIC8vIHRvIHVwbG9hZEZpbGVzQ29udGludWUgZnJvbSBQeXRob24uCiAgb3V0cHV0RWxlbWVudC5zdGVwcyA9IHN0ZXBzOwoKICByZXR1cm4gX3VwbG9hZEZpbGVzQ29udGludWUob3V0cHV0SWQpOwp9CgovLyBUaGlzIGlzIHJvdWdobHkgYW4gYXN5bmMgZ2VuZXJhdG9yIChub3Qgc3VwcG9ydGVkIGluIHRoZSBicm93c2VyIHlldCksCi8vIHdoZXJlIHRoZXJlIGFyZSBtdWx0aXBsZSBhc3luY2hyb25vdXMgc3RlcHMgYW5kIHRoZSBQeXRob24gc2lkZSBpcyBnb2luZwovLyB0byBwb2xsIGZvciBjb21wbGV0aW9uIG9mIGVhY2ggc3RlcC4KLy8gVGhpcyB1c2VzIGEgUHJvbWlzZSB0byBibG9jayB0aGUgcHl0aG9uIHNpZGUgb24gY29tcGxldGlvbiBvZiBlYWNoIHN0ZXAsCi8vIHRoZW4gcGFzc2VzIHRoZSByZXN1bHQgb2YgdGhlIHByZXZpb3VzIHN0ZXAgYXMgdGhlIGlucHV0IHRvIHRoZSBuZXh0IHN0ZXAuCmZ1bmN0aW9uIF91cGxvYWRGaWxlc0NvbnRpbnVlKG91dHB1dElkKSB7CiAgY29uc3Qgb3V0cHV0RWxlbWVudCA9IGRvY3VtZW50LmdldEVsZW1lbnRCeUlkKG91dHB1dElkKTsKICBjb25zdCBzdGVwcyA9IG91dHB1dEVsZW1lbnQuc3RlcHM7CgogIGNvbnN0IG5leHQgPSBzdGVwcy5uZXh0KG91dHB1dEVsZW1lbnQubGFzdFByb21pc2VWYWx1ZSk7CiAgcmV0dXJuIFByb21pc2UucmVzb2x2ZShuZXh0LnZhbHVlLnByb21pc2UpLnRoZW4oKHZhbHVlKSA9PiB7CiAgICAvLyBDYWNoZSB0aGUgbGFzdCBwcm9taXNlIHZhbHVlIHRvIG1ha2UgaXQgYXZhaWxhYmxlIHRvIHRoZSBuZXh0CiAgICAvLyBzdGVwIG9mIHRoZSBnZW5lcmF0b3IuCiAgICBvdXRwdXRFbGVtZW50Lmxhc3RQcm9taXNlVmFsdWUgPSB2YWx1ZTsKICAgIHJldHVybiBuZXh0LnZhbHVlLnJlc3BvbnNlOwogIH0pOwp9CgovKioKICogR2VuZXJhdG9yIGZ1bmN0aW9uIHdoaWNoIGlzIGNhbGxlZCBiZXR3ZWVuIGVhY2ggYXN5bmMgc3RlcCBvZiB0aGUgdXBsb2FkCiAqIHByb2Nlc3MuCiAqIEBwYXJhbSB7c3RyaW5nfSBpbnB1dElkIEVsZW1lbnQgSUQgb2YgdGhlIGlucHV0IGZpbGUgcGlja2VyIGVsZW1lbnQuCiAqIEBwYXJhbSB7c3RyaW5nfSBvdXRwdXRJZCBFbGVtZW50IElEIG9mIHRoZSBvdXRwdXQgZGlzcGxheS4KICogQHJldHVybiB7IUl0ZXJhYmxlPCFPYmplY3Q+fSBJdGVyYWJsZSBvZiBuZXh0IHN0ZXBzLgogKi8KZnVuY3Rpb24qIHVwbG9hZEZpbGVzU3RlcChpbnB1dElkLCBvdXRwdXRJZCkgewogIGNvbnN0IGlucHV0RWxlbWVudCA9IGRvY3VtZW50LmdldEVsZW1lbnRCeUlkKGlucHV0SWQpOwogIGlucHV0RWxlbWVudC5kaXNhYmxlZCA9IGZhbHNlOwoKICBjb25zdCBvdXRwdXRFbGVtZW50ID0gZG9jdW1lbnQuZ2V0RWxlbWVudEJ5SWQob3V0cHV0SWQpOwogIG91dHB1dEVsZW1lbnQuaW5uZXJIVE1MID0gJyc7CgogIGNvbnN0IHBpY2tlZFByb21pc2UgPSBuZXcgUHJvbWlzZSgocmVzb2x2ZSkgPT4gewogICAgaW5wdXRFbGVtZW50LmFkZEV2ZW50TGlzdGVuZXIoJ2NoYW5nZScsIChlKSA9PiB7CiAgICAgIHJlc29sdmUoZS50YXJnZXQuZmlsZXMpOwogICAgfSk7CiAgfSk7CgogIGNvbnN0IGNhbmNlbCA9IGRvY3VtZW50LmNyZWF0ZUVsZW1lbnQoJ2J1dHRvbicpOwogIGlucHV0RWxlbWVudC5wYXJlbnRFbGVtZW50LmFwcGVuZENoaWxkKGNhbmNlbCk7CiAgY2FuY2VsLnRleHRDb250ZW50ID0gJ0NhbmNlbCB1cGxvYWQnOwogIGNvbnN0IGNhbmNlbFByb21pc2UgPSBuZXcgUHJvbWlzZSgocmVzb2x2ZSkgPT4gewogICAgY2FuY2VsLm9uY2xpY2sgPSAoKSA9PiB7CiAgICAgIHJlc29sdmUobnVsbCk7CiAgICB9OwogIH0pOwoKICAvLyBXYWl0IGZvciB0aGUgdXNlciB0byBwaWNrIHRoZSBmaWxlcy4KICBjb25zdCBmaWxlcyA9IHlpZWxkIHsKICAgIHByb21pc2U6IFByb21pc2UucmFjZShbcGlja2VkUHJvbWlzZSwgY2FuY2VsUHJvbWlzZV0pLAogICAgcmVzcG9uc2U6IHsKICAgICAgYWN0aW9uOiAnc3RhcnRpbmcnLAogICAgfQogIH07CgogIGNhbmNlbC5yZW1vdmUoKTsKCiAgLy8gRGlzYWJsZSB0aGUgaW5wdXQgZWxlbWVudCBzaW5jZSBmdXJ0aGVyIHBpY2tzIGFyZSBub3QgYWxsb3dlZC4KICBpbnB1dEVsZW1lbnQuZGlzYWJsZWQgPSB0cnVlOwoKICBpZiAoIWZpbGVzKSB7CiAgICByZXR1cm4gewogICAgICByZXNwb25zZTogewogICAgICAgIGFjdGlvbjogJ2NvbXBsZXRlJywKICAgICAgfQogICAgfTsKICB9CgogIGZvciAoY29uc3QgZmlsZSBvZiBmaWxlcykgewogICAgY29uc3QgbGkgPSBkb2N1bWVudC5jcmVhdGVFbGVtZW50KCdsaScpOwogICAgbGkuYXBwZW5kKHNwYW4oZmlsZS5uYW1lLCB7Zm9udFdlaWdodDogJ2JvbGQnfSkpOwogICAgbGkuYXBwZW5kKHNwYW4oCiAgICAgICAgYCgke2ZpbGUudHlwZSB8fCAnbi9hJ30pIC0gJHtmaWxlLnNpemV9IGJ5dGVzLCBgICsKICAgICAgICBgbGFzdCBtb2RpZmllZDogJHsKICAgICAgICAgICAgZmlsZS5sYXN0TW9kaWZpZWREYXRlID8gZmlsZS5sYXN0TW9kaWZpZWREYXRlLnRvTG9jYWxlRGF0ZVN0cmluZygpIDoKICAgICAgICAgICAgICAgICAgICAgICAgICAgICAgICAgICAgJ24vYSd9IC0gYCkpOwogICAgY29uc3QgcGVyY2VudCA9IHNwYW4oJzAlIGRvbmUnKTsKICAgIGxpLmFwcGVuZENoaWxkKHBlcmNlbnQpOwoKICAgIG91dHB1dEVsZW1lbnQuYXBwZW5kQ2hpbGQobGkpOwoKICAgIGNvbnN0IGZpbGVEYXRhUHJvbWlzZSA9IG5ldyBQcm9taXNlKChyZXNvbHZlKSA9PiB7CiAgICAgIGNvbnN0IHJlYWRlciA9IG5ldyBGaWxlUmVhZGVyKCk7CiAgICAgIHJlYWRlci5vbmxvYWQgPSAoZSkgPT4gewogICAgICAgIHJlc29sdmUoZS50YXJnZXQucmVzdWx0KTsKICAgICAgfTsKICAgICAgcmVhZGVyLnJlYWRBc0FycmF5QnVmZmVyKGZpbGUpOwogICAgfSk7CiAgICAvLyBXYWl0IGZvciB0aGUgZGF0YSB0byBiZSByZWFkeS4KICAgIGxldCBmaWxlRGF0YSA9IHlpZWxkIHsKICAgICAgcHJvbWlzZTogZmlsZURhdGFQcm9taXNlLAogICAgICByZXNwb25zZTogewogICAgICAgIGFjdGlvbjogJ2NvbnRpbnVlJywKICAgICAgfQogICAgfTsKCiAgICAvLyBVc2UgYSBjaHVua2VkIHNlbmRpbmcgdG8gYXZvaWQgbWVzc2FnZSBzaXplIGxpbWl0cy4gU2VlIGIvNjIxMTU2NjAuCiAgICBsZXQgcG9zaXRpb24gPSAwOwogICAgd2hpbGUgKHBvc2l0aW9uIDwgZmlsZURhdGEuYnl0ZUxlbmd0aCkgewogICAgICBjb25zdCBsZW5ndGggPSBNYXRoLm1pbihmaWxlRGF0YS5ieXRlTGVuZ3RoIC0gcG9zaXRpb24sIE1BWF9QQVlMT0FEX1NJWkUpOwogICAgICBjb25zdCBjaHVuayA9IG5ldyBVaW50OEFycmF5KGZpbGVEYXRhLCBwb3NpdGlvbiwgbGVuZ3RoKTsKICAgICAgcG9zaXRpb24gKz0gbGVuZ3RoOwoKICAgICAgY29uc3QgYmFzZTY0ID0gYnRvYShTdHJpbmcuZnJvbUNoYXJDb2RlLmFwcGx5KG51bGwsIGNodW5rKSk7CiAgICAgIHlpZWxkIHsKICAgICAgICByZXNwb25zZTogewogICAgICAgICAgYWN0aW9uOiAnYXBwZW5kJywKICAgICAgICAgIGZpbGU6IGZpbGUubmFtZSwKICAgICAgICAgIGRhdGE6IGJhc2U2NCwKICAgICAgICB9LAogICAgICB9OwogICAgICBwZXJjZW50LnRleHRDb250ZW50ID0KICAgICAgICAgIGAke01hdGgucm91bmQoKHBvc2l0aW9uIC8gZmlsZURhdGEuYnl0ZUxlbmd0aCkgKiAxMDApfSUgZG9uZWA7CiAgICB9CiAgfQoKICAvLyBBbGwgZG9uZS4KICB5aWVsZCB7CiAgICByZXNwb25zZTogewogICAgICBhY3Rpb246ICdjb21wbGV0ZScsCiAgICB9CiAgfTsKfQoKc2NvcGUuZ29vZ2xlID0gc2NvcGUuZ29vZ2xlIHx8IHt9OwpzY29wZS5nb29nbGUuY29sYWIgPSBzY29wZS5nb29nbGUuY29sYWIgfHwge307CnNjb3BlLmdvb2dsZS5jb2xhYi5fZmlsZXMgPSB7CiAgX3VwbG9hZEZpbGVzLAogIF91cGxvYWRGaWxlc0NvbnRpbnVlLAp9Owp9KShzZWxmKTsK",
              "ok": true,
              "headers": [
                [
                  "content-type",
                  "application/javascript"
                ]
              ],
              "status": 200,
              "status_text": ""
            }
          },
          "base_uri": "https://localhost:8080/",
          "height": 116
        },
        "id": "qrXwltX3Os_m",
        "outputId": "aeb1f830-7162-4350-c0c4-4391a6782dac"
      },
      "source": [
        "from google.colab import files\n",
        "files.upload()"
      ],
      "execution_count": null,
      "outputs": [
        {
          "output_type": "display_data",
          "data": {
            "text/html": [
              "\n",
              "     <input type=\"file\" id=\"files-371689bc-0ca3-40ef-b961-130a33e67576\" name=\"files[]\" multiple disabled\n",
              "        style=\"border:none\" />\n",
              "     <output id=\"result-371689bc-0ca3-40ef-b961-130a33e67576\">\n",
              "      Upload widget is only available when the cell has been executed in the\n",
              "      current browser session. Please rerun this cell to enable.\n",
              "      </output>\n",
              "      <script src=\"/nbextensions/google.colab/files.js\"></script> "
            ],
            "text/plain": [
              "<IPython.core.display.HTML object>"
            ]
          },
          "metadata": {
            "tags": []
          }
        },
        {
          "output_type": "stream",
          "text": [
            "Saving iris.csv to iris.csv\n"
          ],
          "name": "stdout"
        },
        {
          "output_type": "execute_result",
          "data": {
            "text/plain": [
              "{'iris.csv': b',sepal length (cm),sepal width (cm),petal length (cm),petal width (cm)\\n0,5.1,3.5,1.4,0.2\\n1,4.9,3.0,1.4,0.2\\n2,4.7,3.2,1.3,0.2\\n3,4.6,3.1,1.5,0.2\\n4,5.0,3.6,1.4,0.2\\n5,5.4,3.9,1.7,0.4\\n6,4.6,3.4,1.4,0.3\\n7,5.0,3.4,1.5,0.2\\n8,4.4,2.9,1.4,0.2\\n9,4.9,3.1,1.5,0.1\\n10,5.4,3.7,1.5,0.2\\n11,4.8,3.4,1.6,0.2\\n12,4.8,3.0,1.4,0.1\\n13,4.3,3.0,1.1,0.1\\n14,5.8,4.0,1.2,0.2\\n15,5.7,4.4,1.5,0.4\\n16,5.4,3.9,1.3,0.4\\n17,5.1,3.5,1.4,0.3\\n18,5.7,3.8,1.7,0.3\\n19,5.1,3.8,1.5,0.3\\n20,5.4,3.4,1.7,0.2\\n21,5.1,3.7,1.5,0.4\\n22,4.6,3.6,1.0,0.2\\n23,5.1,3.3,1.7,0.5\\n24,4.8,3.4,1.9,0.2\\n25,5.0,3.0,1.6,0.2\\n26,5.0,3.4,1.6,0.4\\n27,5.2,3.5,1.5,0.2\\n28,5.2,3.4,1.4,0.2\\n29,4.7,3.2,1.6,0.2\\n30,4.8,3.1,1.6,0.2\\n31,5.4,3.4,1.5,0.4\\n32,5.2,4.1,1.5,0.1\\n33,5.5,4.2,1.4,0.2\\n34,4.9,3.1,1.5,0.2\\n35,5.0,3.2,1.2,0.2\\n36,5.5,3.5,1.3,0.2\\n37,4.9,3.6,1.4,0.1\\n38,4.4,3.0,1.3,0.2\\n39,5.1,3.4,1.5,0.2\\n40,5.0,3.5,1.3,0.3\\n41,4.5,2.3,1.3,0.3\\n42,4.4,3.2,1.3,0.2\\n43,5.0,3.5,1.6,0.6\\n44,5.1,3.8,1.9,0.4\\n45,4.8,3.0,1.4,0.3\\n46,5.1,3.8,1.6,0.2\\n47,4.6,3.2,1.4,0.2\\n48,5.3,3.7,1.5,0.2\\n49,5.0,3.3,1.4,0.2\\n50,7.0,3.2,4.7,1.4\\n51,6.4,3.2,4.5,1.5\\n52,6.9,3.1,4.9,1.5\\n53,5.5,2.3,4.0,1.3\\n54,6.5,2.8,4.6,1.5\\n55,5.7,2.8,4.5,1.3\\n56,6.3,3.3,4.7,1.6\\n57,4.9,2.4,3.3,1.0\\n58,6.6,2.9,4.6,1.3\\n59,5.2,2.7,3.9,1.4\\n60,5.0,2.0,3.5,1.0\\n61,5.9,3.0,4.2,1.5\\n62,6.0,2.2,4.0,1.0\\n63,6.1,2.9,4.7,1.4\\n64,5.6,2.9,3.6,1.3\\n65,6.7,3.1,4.4,1.4\\n66,5.6,3.0,4.5,1.5\\n67,5.8,2.7,4.1,1.0\\n68,6.2,2.2,4.5,1.5\\n69,5.6,2.5,3.9,1.1\\n70,5.9,3.2,4.8,1.8\\n71,6.1,2.8,4.0,1.3\\n72,6.3,2.5,4.9,1.5\\n73,6.1,2.8,4.7,1.2\\n74,6.4,2.9,4.3,1.3\\n75,6.6,3.0,4.4,1.4\\n76,6.8,2.8,4.8,1.4\\n77,6.7,3.0,5.0,1.7\\n78,6.0,2.9,4.5,1.5\\n79,5.7,2.6,3.5,1.0\\n80,5.5,2.4,3.8,1.1\\n81,5.5,2.4,3.7,1.0\\n82,5.8,2.7,3.9,1.2\\n83,6.0,2.7,5.1,1.6\\n84,5.4,3.0,4.5,1.5\\n85,6.0,3.4,4.5,1.6\\n86,6.7,3.1,4.7,1.5\\n87,6.3,2.3,4.4,1.3\\n88,5.6,3.0,4.1,1.3\\n89,5.5,2.5,4.0,1.3\\n90,5.5,2.6,4.4,1.2\\n91,6.1,3.0,4.6,1.4\\n92,5.8,2.6,4.0,1.2\\n93,5.0,2.3,3.3,1.0\\n94,5.6,2.7,4.2,1.3\\n95,5.7,3.0,4.2,1.2\\n96,5.7,2.9,4.2,1.3\\n97,6.2,2.9,4.3,1.3\\n98,5.1,2.5,3.0,1.1\\n99,5.7,2.8,4.1,1.3\\n100,6.3,3.3,6.0,2.5\\n101,5.8,2.7,5.1,1.9\\n102,7.1,3.0,5.9,2.1\\n103,6.3,2.9,5.6,1.8\\n104,6.5,3.0,5.8,2.2\\n105,7.6,3.0,6.6,2.1\\n106,4.9,2.5,4.5,1.7\\n107,7.3,2.9,6.3,1.8\\n108,6.7,2.5,5.8,1.8\\n109,7.2,3.6,6.1,2.5\\n110,6.5,3.2,5.1,2.0\\n111,6.4,2.7,5.3,1.9\\n112,6.8,3.0,5.5,2.1\\n113,5.7,2.5,5.0,2.0\\n114,5.8,2.8,5.1,2.4\\n115,6.4,3.2,5.3,2.3\\n116,6.5,3.0,5.5,1.8\\n117,7.7,3.8,6.7,2.2\\n118,7.7,2.6,6.9,2.3\\n119,6.0,2.2,5.0,1.5\\n120,6.9,3.2,5.7,2.3\\n121,5.6,2.8,4.9,2.0\\n122,7.7,2.8,6.7,2.0\\n123,6.3,2.7,4.9,1.8\\n124,6.7,3.3,5.7,2.1\\n125,7.2,3.2,6.0,1.8\\n126,6.2,2.8,4.8,1.8\\n127,6.1,3.0,4.9,1.8\\n128,6.4,2.8,5.6,2.1\\n129,7.2,3.0,5.8,1.6\\n130,7.4,2.8,6.1,1.9\\n131,7.9,3.8,6.4,2.0\\n132,6.4,2.8,5.6,2.2\\n133,6.3,2.8,5.1,1.5\\n134,6.1,2.6,5.6,1.4\\n135,7.7,3.0,6.1,2.3\\n136,6.3,3.4,5.6,2.4\\n137,6.4,3.1,5.5,1.8\\n138,6.0,3.0,4.8,1.8\\n139,6.9,3.1,5.4,2.1\\n140,6.7,3.1,5.6,2.4\\n141,6.9,3.1,5.1,2.3\\n142,5.8,2.7,5.1,1.9\\n143,6.8,3.2,5.9,2.3\\n144,6.7,3.3,5.7,2.5\\n145,6.7,3.0,5.2,2.3\\n146,6.3,2.5,5.0,1.9\\n147,6.5,3.0,5.2,2.0\\n148,6.2,3.4,5.4,2.3\\n149,5.9,3.0,5.1,1.8\\n'}"
            ]
          },
          "metadata": {
            "tags": []
          },
          "execution_count": 1
        }
      ]
    },
    {
      "cell_type": "code",
      "metadata": {
        "id": "Ak_s34V5O1Kj"
      },
      "source": [
        "##조건\n",
        "#standardization은 scipy의 zscore함수 이용.\n",
        "#normalization은 scipy의 MinMaxScaler함수 이용.\n",
        "#결과 : 소스코드, 결과 csv파일(첨부해주세요)\n",
        "import pandas as pd\n",
        "from scipy.stats import zscore\n",
        "\n",
        "#scipy에는 minmaxscaler가 있는것을 확인하지 못해서 sklearn의 minmaxscaler를 사용함.\n",
        "from sklearn.preprocessing import MinMaxScaler\n",
        "df = pd.read_csv(\"iris.csv\")\n",
        "#=======Standardization을 진행해주세요(각 feature마다 Standardization이 진행되어야합니다.)=======\n",
        "df_sd = zscore(df)\n",
        "#=======Normalization을 진행해주세요(각 feature마다 Normalization이 진행되어야합니다.)=======\n",
        "mm = MinMaxScaler()\n",
        "df_mm = mm.fit_transform(df)\n",
        "#=======결과 DataFrame을 csv로 저장해주세요=======\n",
        "\n",
        "df_sd = pd.DataFrame(df_sd)\n",
        "df_mm = pd.DataFrame(df_mm)\n",
        "\n",
        "df_sd.to_csv(\"iris_standard.csv\")\n",
        "df_mm.to_csv(\"iris_normalize.csv\")"
      ],
      "execution_count": null,
      "outputs": []
    },
    {
      "cell_type": "code",
      "metadata": {
        "id": "mFXGkZ8QO8n3"
      },
      "source": [
        ""
      ],
      "execution_count": null,
      "outputs": []
    }
  ]
}